{
 "cells": [
  {
   "cell_type": "code",
   "execution_count": 70,
   "id": "38bda50f",
   "metadata": {},
   "outputs": [
    {
     "name": "stdout",
     "output_type": "stream",
     "text": [
      "hello\n"
     ]
    }
   ],
   "source": [
    "print('hello')"
   ]
  },
  {
   "cell_type": "code",
   "execution_count": 71,
   "id": "8a029a4b",
   "metadata": {},
   "outputs": [],
   "source": [
    "def greeting():\n",
    "    print('hello world')\n",
    "    "
   ]
  },
  {
   "cell_type": "code",
   "execution_count": 72,
   "id": "4dc44d05",
   "metadata": {},
   "outputs": [
    {
     "name": "stdout",
     "output_type": "stream",
     "text": [
      "hello world\n"
     ]
    }
   ],
   "source": [
    "greeting()"
   ]
  },
  {
   "cell_type": "code",
   "execution_count": 73,
   "id": "4e593fc0",
   "metadata": {},
   "outputs": [],
   "source": [
    "greeting.__doc__"
   ]
  },
  {
   "cell_type": "code",
   "execution_count": 74,
   "id": "8db35812",
   "metadata": {},
   "outputs": [
    {
     "data": {
      "text/plain": [
       "['__annotations__',\n",
       " '__call__',\n",
       " '__class__',\n",
       " '__closure__',\n",
       " '__code__',\n",
       " '__defaults__',\n",
       " '__delattr__',\n",
       " '__dict__',\n",
       " '__dir__',\n",
       " '__doc__',\n",
       " '__eq__',\n",
       " '__format__',\n",
       " '__ge__',\n",
       " '__get__',\n",
       " '__getattribute__',\n",
       " '__globals__',\n",
       " '__gt__',\n",
       " '__hash__',\n",
       " '__init__',\n",
       " '__init_subclass__',\n",
       " '__kwdefaults__',\n",
       " '__le__',\n",
       " '__lt__',\n",
       " '__module__',\n",
       " '__name__',\n",
       " '__ne__',\n",
       " '__new__',\n",
       " '__qualname__',\n",
       " '__reduce__',\n",
       " '__reduce_ex__',\n",
       " '__repr__',\n",
       " '__setattr__',\n",
       " '__sizeof__',\n",
       " '__str__',\n",
       " '__subclasshook__']"
      ]
     },
     "execution_count": 74,
     "metadata": {},
     "output_type": "execute_result"
    }
   ],
   "source": [
    "dir(greeting)"
   ]
  },
  {
   "cell_type": "code",
   "execution_count": 75,
   "id": "079efc62",
   "metadata": {},
   "outputs": [],
   "source": [
    "greeting.__doc__"
   ]
  },
  {
   "cell_type": "code",
   "execution_count": 76,
   "id": "a200b114",
   "metadata": {},
   "outputs": [],
   "source": [
    "def my_function(p, l):\n",
    "     '''Function untuk menghitung luas'''\n",
    "     print (p*l)"
   ]
  },
  {
   "cell_type": "code",
   "execution_count": 77,
   "id": "5cbdbb9e",
   "metadata": {},
   "outputs": [
    {
     "name": "stdout",
     "output_type": "stream",
     "text": [
      "16\n"
     ]
    }
   ],
   "source": [
    "my_function(2, 8)"
   ]
  },
  {
   "cell_type": "code",
   "execution_count": 78,
   "id": "21a7ab32",
   "metadata": {},
   "outputs": [
    {
     "name": "stdout",
     "output_type": "stream",
     "text": [
      "16\n",
      "None\n"
     ]
    }
   ],
   "source": [
    "print (my_function(2, 8))"
   ]
  },
  {
   "cell_type": "code",
   "execution_count": 79,
   "id": "d743a862",
   "metadata": {},
   "outputs": [],
   "source": [
    "def printme(str):\n",
    "    '''This string a passed string into this function'''\n",
    "    print(str)\n",
    "    return"
   ]
  },
  {
   "cell_type": "code",
   "execution_count": 80,
   "id": "37118953",
   "metadata": {},
   "outputs": [
    {
     "data": {
      "text/plain": [
       "'This string a passed string into this function'"
      ]
     },
     "execution_count": 80,
     "metadata": {},
     "output_type": "execute_result"
    }
   ],
   "source": [
    "printme.__doc__"
   ]
  },
  {
   "cell_type": "code",
   "execution_count": 81,
   "id": "01418c65",
   "metadata": {},
   "outputs": [
    {
     "name": "stdout",
     "output_type": "stream",
     "text": [
      "apple mango cherries\n"
     ]
    }
   ],
   "source": [
    "printme('apple mango cherries')"
   ]
  },
  {
   "cell_type": "code",
   "execution_count": 82,
   "id": "37f17956",
   "metadata": {},
   "outputs": [
    {
     "name": "stdout",
     "output_type": "stream",
     "text": [
      "123\n"
     ]
    }
   ],
   "source": [
    "print(123)"
   ]
  },
  {
   "cell_type": "code",
   "execution_count": 83,
   "id": "ec7f882c",
   "metadata": {},
   "outputs": [
    {
     "name": "stdout",
     "output_type": "stream",
     "text": [
      "40\n"
     ]
    }
   ],
   "source": [
    "my_function(10, 4)"
   ]
  },
  {
   "cell_type": "code",
   "execution_count": 84,
   "id": "0880f0f4",
   "metadata": {},
   "outputs": [
    {
     "name": "stdout",
     "output_type": "stream",
     "text": [
      "I'm first call to user defined function!\n",
      "Again second call to the same function\n"
     ]
    }
   ],
   "source": [
    "def printme (str):\n",
    "    '''This prints a passed string into this function'''\n",
    "    print(str)\n",
    "    return\n",
    "printme(\"I'm first call to user defined function!\")\n",
    "printme(\"Again second call to the same function\")"
   ]
  },
  {
   "cell_type": "code",
   "execution_count": 85,
   "id": "96bdee46",
   "metadata": {},
   "outputs": [
    {
     "name": "stdout",
     "output_type": "stream",
     "text": [
      "this is the third call\n"
     ]
    }
   ],
   "source": [
    "printme (\"this is the third call\")"
   ]
  },
  {
   "cell_type": "code",
   "execution_count": 86,
   "id": "a3d08a46",
   "metadata": {},
   "outputs": [
    {
     "name": "stdout",
     "output_type": "stream",
     "text": [
      "('Pemanggilan ke', 0)\n",
      "('Pemanggilan ke', 1)\n",
      "('Pemanggilan ke', 2)\n",
      "('Pemanggilan ke', 3)\n",
      "('Pemanggilan ke', 4)\n"
     ]
    }
   ],
   "source": [
    "for i in range (5):\n",
    "    printme((\"Pemanggilan ke\", i))"
   ]
  },
  {
   "cell_type": "code",
   "execution_count": 87,
   "id": "e2cc9ffb",
   "metadata": {},
   "outputs": [
    {
     "name": "stdout",
     "output_type": "stream",
     "text": [
      "Values inside the function:  [10, 20, 30, [1, 2, 3, 4]]\n",
      "Values outside the function:  [10, 20, 30, [1, 2, 3, 4]]\n"
     ]
    }
   ],
   "source": [
    "def changeme(my_list):\n",
    "   \"This change a passed list into this function\"\n",
    "   mylist.append([1,2,3,4]);\n",
    "   print(\"Values inside the function: \", mylist)\n",
    "    \n",
    "mylist = [10,20,30];\n",
    "changeme(mylist);\n",
    "print(\"Values outside the function: \", mylist)"
   ]
  },
  {
   "cell_type": "code",
   "execution_count": 88,
   "id": "d5a396cd",
   "metadata": {},
   "outputs": [
    {
     "name": "stdout",
     "output_type": "stream",
     "text": [
      "Values inside the function:  [10, 20, 30, [1, 2, 3, 4], '7', '7', '7']\n",
      "Values outside the function:  [10, 20, 30, [1, 2, 3, 4], '7', '7', '7']\n"
     ]
    }
   ],
   "source": [
    "def changeme(mystr):\n",
    "    \"This changes a passed str into this function\"\n",
    "    mystr += '777'\n",
    "    print (\"Values inside the function: \", mystr)\n",
    "    return\n",
    "\n",
    "mystr = \"holla\"\n",
    "changeme(mylist)\n",
    "print (\"Values outside the function: \", mylist)"
   ]
  },
  {
   "cell_type": "code",
   "execution_count": 89,
   "id": "425ff828",
   "metadata": {},
   "outputs": [
    {
     "name": "stdout",
     "output_type": "stream",
     "text": [
      "Values inside the function:  [10, 20, 30, '7', '7', '7']\n"
     ]
    }
   ],
   "source": [
    "my_list = 10,20,30\n",
    "changeme([10, 20, 30])\n",
    "mylist.append([1, 2, 3, 4])"
   ]
  },
  {
   "cell_type": "code",
   "execution_count": 90,
   "id": "804771fd",
   "metadata": {},
   "outputs": [
    {
     "name": "stdout",
     "output_type": "stream",
     "text": [
      "values inside the function:  holla777\n",
      "Values outside the function:  holla\n"
     ]
    }
   ],
   "source": [
    "def changeme(mystr):\n",
    "    \"this change a passed str into this function\"\n",
    "    mystr += '777'\n",
    "    print(\"values inside the function: \", mystr)\n",
    "    return\n",
    "\n",
    "\n",
    "\n",
    "\n",
    "mystr = \"holla\"\n",
    "changeme(mystr)\n",
    "print (\"Values outside the function: \", mystr)"
   ]
  },
  {
   "cell_type": "code",
   "execution_count": 91,
   "id": "9e1d589a",
   "metadata": {},
   "outputs": [
    {
     "name": "stdout",
     "output_type": "stream",
     "text": [
      "values inside the function:  [1, 2, 3, 4]\n",
      "Values outside the function:  [10, 20, 30]\n"
     ]
    }
   ],
   "source": [
    "def changeme(myulist):\n",
    "    \"This change a passed list into this function\"\n",
    "    mylist = [1, 2, 3, 4]\n",
    "    print(\"values inside the function: \", mylist)\n",
    "    return\n",
    "\n",
    "\n",
    "\n",
    "\n",
    "mylist = [10, 20, 30]\n",
    "changeme(mylist)\n",
    "print(\"Values outside the function: \", mylist)"
   ]
  },
  {
   "cell_type": "code",
   "execution_count": 92,
   "id": "8c6c5775",
   "metadata": {},
   "outputs": [
    {
     "name": "stdout",
     "output_type": "stream",
     "text": [
      "name:  ari\n",
      "age:  45\n"
     ]
    }
   ],
   "source": [
    "def print_info (name, age):\n",
    "    \"This prints a passed info into this function\"\n",
    "    print(\"name: \", name)\n",
    "    print(\"age: \", age)\n",
    "    return\n",
    "\n",
    "\n",
    "print_info (\"ari\", 45)"
   ]
  },
  {
   "cell_type": "code",
   "execution_count": 93,
   "id": "7d67a36b",
   "metadata": {},
   "outputs": [
    {
     "name": "stdout",
     "output_type": "stream",
     "text": [
      "name:  45\n",
      "age:  ari\n"
     ]
    }
   ],
   "source": [
    "print_info(45, \"ari\")"
   ]
  },
  {
   "cell_type": "code",
   "execution_count": 94,
   "id": "37802e64",
   "metadata": {},
   "outputs": [
    {
     "name": "stdout",
     "output_type": "stream",
     "text": [
      "name:  ari\n",
      "age:  45\n"
     ]
    }
   ],
   "source": [
    "print_info(name = \"ari\", age = 45)"
   ]
  },
  {
   "cell_type": "code",
   "execution_count": 95,
   "id": "50e85481",
   "metadata": {},
   "outputs": [
    {
     "name": "stdout",
     "output_type": "stream",
     "text": [
      "name:  ari\n",
      "age:  45\n"
     ]
    }
   ],
   "source": [
    "print_info(age = 45, name = \"ari\")"
   ]
  },
  {
   "cell_type": "code",
   "execution_count": 96,
   "id": "f846dd37",
   "metadata": {},
   "outputs": [
    {
     "name": "stdout",
     "output_type": "stream",
     "text": [
      "name:  ira\n",
      "age:  0\n",
      "name:  indira\n",
      "age:  0\n",
      "name:  dira\n",
      "age:  0\n"
     ]
    }
   ],
   "source": [
    "print_info(\"ira\", 0)\n",
    "print_info(\"indira\", 0)\n",
    "print_info(\"dira\", 0)"
   ]
  },
  {
   "cell_type": "code",
   "execution_count": 97,
   "id": "f0eb5f8a",
   "metadata": {},
   "outputs": [
    {
     "ename": "IndentationError",
     "evalue": "expected an indented block (Temp/ipykernel_7060/2818254495.py, line 4)",
     "output_type": "error",
     "traceback": [
      "\u001b[1;36m  File \u001b[1;32m\"C:\\Users\\CINDOF~1\\AppData\\Local\\Temp/ipykernel_7060/2818254495.py\"\u001b[1;36m, line \u001b[1;32m4\u001b[0m\n\u001b[1;33m    # def print_info(nasabah, *loan)\u001b[0m\n\u001b[1;37m                                    ^\u001b[0m\n\u001b[1;31mIndentationError\u001b[0m\u001b[1;31m:\u001b[0m expected an indented block\n"
     ]
    }
   ],
   "source": [
    "def print_info(arg1, *vartuple):\n",
    "# def print_info(cust_name, *items):\n",
    "# def print_info(menu, *ingredients):\n",
    "# def print_info(nasabah, *loan)\n"
   ]
  },
  {
   "cell_type": "code",
   "execution_count": 98,
   "id": "5f750d0b",
   "metadata": {},
   "outputs": [],
   "source": [
    "# Function definition is here\n",
    "def print_info(arg1, *vartuple):\n",
    "    '''This prints a variable passed arguments'''\n",
    "    print(\"Output is: \")\n",
    "    print(arg1)\n",
    "    \n",
    "    for var in vartuple:\n",
    "        print(var)\n",
    "    \n",
    "    return\n"
   ]
  },
  {
   "cell_type": "code",
   "execution_count": 99,
   "id": "5b39f257",
   "metadata": {},
   "outputs": [
    {
     "name": "stdout",
     "output_type": "stream",
     "text": [
      "Output is: \n",
      "10\n"
     ]
    }
   ],
   "source": [
    "print_info(10)"
   ]
  },
  {
   "cell_type": "code",
   "execution_count": 100,
   "id": "e0fab42a",
   "metadata": {},
   "outputs": [
    {
     "name": "stdout",
     "output_type": "stream",
     "text": [
      "Output is: \n",
      "70\n",
      "60\n",
      "50\n",
      "a\n"
     ]
    }
   ],
   "source": [
    "print_info(70, 60, 50, \"a\")\n"
   ]
  },
  {
   "cell_type": "code",
   "execution_count": 101,
   "id": "26960db9",
   "metadata": {},
   "outputs": [],
   "source": [
    "def buy(cust_name, **items):\n",
    "    '''This prints items bought by a customer '''\n",
    "    \n",
    "    print(\"Customer name: \", cust_name)\n",
    "    \n",
    "    for item in items.keys():\n",
    "# for item in items.keys():\n",
    "      print(\"item\")\n",
    "\n",
    "    \n",
    "    return"
   ]
  },
  {
   "cell_type": "code",
   "execution_count": 102,
   "id": "2fbaa471",
   "metadata": {},
   "outputs": [
    {
     "name": "stdout",
     "output_type": "stream",
     "text": [
      "Customer name:  Ani\n",
      "item\n",
      "item\n",
      "item\n",
      "item\n"
     ]
    }
   ],
   "source": [
    "buy(\"Ani\", first=\"egg\", second=\"sugar\", third=\"salt\", fourth=\"baking powder\")"
   ]
  },
  {
   "cell_type": "code",
   "execution_count": 103,
   "id": "abc3cf4a",
   "metadata": {},
   "outputs": [
    {
     "name": "stdout",
     "output_type": "stream",
     "text": [
      "Customer name:  Nuri\n",
      "item\n"
     ]
    }
   ],
   "source": [
    "buy(\"Nuri\", satu = \"buku\")"
   ]
  },
  {
   "cell_type": "code",
   "execution_count": 104,
   "id": "3d83ac4f",
   "metadata": {},
   "outputs": [
    {
     "name": "stdout",
     "output_type": "stream",
     "text": [
      "Customer name:  Nuri\n",
      "item\n",
      "item\n"
     ]
    }
   ],
   "source": [
    "buy(\"Nuri\", stationary=(\"buku\", \"pulpen\"), detergent=\"detergent X\")"
   ]
  },
  {
   "cell_type": "code",
   "execution_count": 105,
   "id": "786a910c",
   "metadata": {},
   "outputs": [
    {
     "name": "stdout",
     "output_type": "stream",
     "text": [
      "80\n"
     ]
    }
   ],
   "source": [
    "def calculate_area(p, l):\n",
    "    '''Function untuk menghitung luas'''\n",
    "    return p * l\n",
    "\n",
    "area = calculate_area(10, 8)\n",
    "# area = 80\n",
    "print(area)"
   ]
  },
  {
   "cell_type": "code",
   "execution_count": 106,
   "id": "bd02ee2d",
   "metadata": {},
   "outputs": [
    {
     "name": "stdout",
     "output_type": "stream",
     "text": [
      "Value of total :  30\n",
      "Value of total :  40\n"
     ]
    }
   ],
   "source": [
    "sum = lambda arg1, arg2: arg1 + arg2\n",
    "\n",
    "print(\"Value of total : \", sum(10, 20))\n",
    "\n",
    "print(\"Value of total : \", sum(20, 20))\n"
   ]
  },
  {
   "cell_type": "code",
   "execution_count": 107,
   "id": "6a9d075a",
   "metadata": {},
   "outputs": [],
   "source": [
    "def penjumlahan (arg1, arg2):\n",
    "    return arg1 + arg2\n"
   ]
  },
  {
   "cell_type": "code",
   "execution_count": 108,
   "id": "b44eb521",
   "metadata": {},
   "outputs": [
    {
     "name": "stdout",
     "output_type": "stream",
     "text": [
      "Inside the function :  30\n",
      "Outside the function :  40\n"
     ]
    }
   ],
   "source": [
    "def sum(arg1, arg2):\n",
    "    '''Add both the parameters and return them.'''\n",
    "    total = arg1 + arg2\n",
    "    total2 = total + arg1\n",
    "    print(\"Inside the function : \", total)\n",
    "    return total2\n",
    "\n",
    "\n",
    "total = sum(10, 20)\n",
    "print(\"Outside the function : \", total)\n"
   ]
  },
  {
   "cell_type": "code",
   "execution_count": 109,
   "id": "6b943a61",
   "metadata": {},
   "outputs": [
    {
     "name": "stdout",
     "output_type": "stream",
     "text": [
      "Inside the function local total :  30\n",
      "Outside the function global total :  0\n"
     ]
    }
   ],
   "source": [
    "total = 0\n",
    "\n",
    "def sum(arg1, arg2):\n",
    "    total = arg1 + arg2\n",
    "    print(\"Inside the function local total : \", total)\n",
    "    return total\n",
    "\n",
    "def min():\n",
    "    pass\n",
    "    \n",
    "sum(10, 20)\n",
    "print(\"Outside the function global total : \", total)\n"
   ]
  },
  {
   "cell_type": "code",
   "execution_count": 110,
   "id": "03c34cc5",
   "metadata": {},
   "outputs": [
    {
     "name": "stdout",
     "output_type": "stream",
     "text": [
      "50\n",
      "40\n"
     ]
    }
   ],
   "source": [
    "jumlahKucing = 20\n",
    "\n",
    "def jumlahHewan():\n",
    "    jumlahAnjing = 30\n",
    "    return jumlahKucing + jumlahAnjing\n",
    "\n",
    "def jumlahKelinci():\n",
    "    return jumlahKucing + jumlahKucing\n",
    "\n",
    "print(jumlahHewan())\n",
    "print(jumlahKelinci())\n"
   ]
  },
  {
   "cell_type": "code",
   "execution_count": null,
   "id": "01ad04fa",
   "metadata": {},
   "outputs": [],
   "source": []
  }
 ],
 "metadata": {
  "kernelspec": {
   "display_name": "Python 3 (ipykernel)",
   "language": "python",
   "name": "python3"
  },
  "language_info": {
   "codemirror_mode": {
    "name": "ipython",
    "version": 3
   },
   "file_extension": ".py",
   "mimetype": "text/x-python",
   "name": "python",
   "nbconvert_exporter": "python",
   "pygments_lexer": "ipython3",
   "version": "3.9.7"
  }
 },
 "nbformat": 4,
 "nbformat_minor": 5
}
