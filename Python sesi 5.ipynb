{
 "cells": [
  {
   "cell_type": "code",
   "execution_count": null,
   "id": "efd94f5f",
   "metadata": {},
   "outputs": [],
   "source": [
    "!pip install pandas"
   ]
  },
  {
   "cell_type": "code",
   "execution_count": null,
   "id": "66597963",
   "metadata": {},
   "outputs": [],
   "source": [
    "!curl -O https://raw.githubusercontent.com/ardhiraka/PFDS_sources/master/nbaallelo.csv"
   ]
  },
  {
   "cell_type": "code",
   "execution_count": null,
   "id": "a2acd86d",
   "metadata": {},
   "outputs": [],
   "source": [
    "import numpy as np\n",
    "import pandas as pd"
   ]
  },
  {
   "cell_type": "code",
   "execution_count": null,
   "id": "4eb3a39a",
   "metadata": {},
   "outputs": [],
   "source": [
    "df = pd.read_csv('https://raw.githubusercontent.com/ardhiraka/PFDS_sources/master/nbaallelo.csv')\n",
    "df.head()     "
   ]
  },
  {
   "cell_type": "code",
   "execution_count": null,
   "id": "b57eb2bd",
   "metadata": {},
   "outputs": [],
   "source": [
    "df = pd.read_csv('nbaallelo.csv')"
   ]
  },
  {
   "cell_type": "code",
   "execution_count": null,
   "id": "49deb5e0",
   "metadata": {},
   "outputs": [],
   "source": [
    "df.head()"
   ]
  },
  {
   "cell_type": "code",
   "execution_count": null,
   "id": "e0a1137a",
   "metadata": {},
   "outputs": [],
   "source": [
    "pd.set_option(\"display.precision\", 2)"
   ]
  },
  {
   "cell_type": "code",
   "execution_count": null,
   "id": "f53bf534",
   "metadata": {},
   "outputs": [],
   "source": [
    "df.tail()"
   ]
  },
  {
   "cell_type": "code",
   "execution_count": null,
   "id": "13bf4fea",
   "metadata": {},
   "outputs": [],
   "source": [
    "df.tail(3)"
   ]
  },
  {
   "cell_type": "code",
   "execution_count": null,
   "id": "92d0c766",
   "metadata": {},
   "outputs": [],
   "source": [
    "df.info()"
   ]
  },
  {
   "cell_type": "code",
   "execution_count": null,
   "id": "1f04560f",
   "metadata": {},
   "outputs": [],
   "source": [
    "df.describe()"
   ]
  },
  {
   "cell_type": "code",
   "execution_count": null,
   "id": "ac969931",
   "metadata": {},
   "outputs": [],
   "source": [
    "df.describe(include=\"object\")"
   ]
  },
  {
   "cell_type": "code",
   "execution_count": null,
   "id": "a0e90639",
   "metadata": {},
   "outputs": [],
   "source": [
    "df[\"team_id\"].value_counts()"
   ]
  },
  {
   "cell_type": "code",
   "execution_count": null,
   "id": "6de04fe6",
   "metadata": {},
   "outputs": [],
   "source": [
    "df[\"fran_id\"].value_counts()"
   ]
  },
  {
   "cell_type": "code",
   "execution_count": null,
   "id": "8ac6ad07",
   "metadata": {},
   "outputs": [],
   "source": [
    "df.loc[df[\"fran_id\"] == \"Lakers\", \"team_id\"].value_counts()"
   ]
  },
  {
   "cell_type": "code",
   "execution_count": null,
   "id": "b8c5a5e3",
   "metadata": {},
   "outputs": [],
   "source": [
    "df.loc[df[\"team_id\"] == \"MNL\", \"date_game\"].min()"
   ]
  },
  {
   "cell_type": "code",
   "execution_count": null,
   "id": "556e0529",
   "metadata": {},
   "outputs": [],
   "source": [
    "df.loc[df[\"team_id\"] == \"MNL\", \"date_game\"].max()"
   ]
  },
  {
   "cell_type": "code",
   "execution_count": null,
   "id": "fa7cea8a",
   "metadata": {},
   "outputs": [],
   "source": [
    "df.loc[df[\"team_id\"] == \"MNL\", \"date_game\"].agg((\"min\", \"max\"))"
   ]
  },
  {
   "cell_type": "code",
   "execution_count": null,
   "id": "d6fccc53",
   "metadata": {},
   "outputs": [],
   "source": [
    "df.loc[df[\"team_id\"] == \"BOS\", \"pts\"].sum()"
   ]
  },
  {
   "cell_type": "code",
   "execution_count": null,
   "id": "48fd04d6",
   "metadata": {},
   "outputs": [],
   "source": [
    "revenues = pd.Series([5555, 7000, 1980])"
   ]
  },
  {
   "cell_type": "code",
   "execution_count": null,
   "id": "d9a0eb2f",
   "metadata": {},
   "outputs": [],
   "source": [
    "revenues"
   ]
  },
  {
   "cell_type": "code",
   "execution_count": null,
   "id": "b03c644f",
   "metadata": {},
   "outputs": [],
   "source": [
    "revenues.values"
   ]
  },
  {
   "cell_type": "code",
   "execution_count": null,
   "id": "19da6b81",
   "metadata": {},
   "outputs": [],
   "source": [
    "revenues.index"
   ]
  },
  {
   "cell_type": "code",
   "execution_count": null,
   "id": "c87926f7",
   "metadata": {},
   "outputs": [],
   "source": [
    "city_revenues = pd.Series([4200, 8000, 6500], index = [\"Amsterdam\", \"Toronto\", \"Tokyo\"])\n",
    "\n",
    "city_revenues"
   ]
  },
  {
   "cell_type": "code",
   "execution_count": null,
   "id": "5b812736",
   "metadata": {},
   "outputs": [],
   "source": [
    "city_employee_counts = pd.Series({\"Amsterdam\": 5, \"Tokyo\": 8})\n",
    "city_employee_counts"
   ]
  },
  {
   "cell_type": "code",
   "execution_count": null,
   "id": "ac264e7a",
   "metadata": {},
   "outputs": [],
   "source": [
    "city_employee_counts.keys()"
   ]
  },
  {
   "cell_type": "code",
   "execution_count": null,
   "id": "31e153d1",
   "metadata": {},
   "outputs": [],
   "source": [
    "\"Tokyo\" in city_employee_counts"
   ]
  },
  {
   "cell_type": "code",
   "execution_count": null,
   "id": "5d9e9506",
   "metadata": {},
   "outputs": [],
   "source": [
    "\"Indonesia\" in city_employee_counts"
   ]
  },
  {
   "cell_type": "code",
   "execution_count": null,
   "id": "1776ecc3",
   "metadata": {},
   "outputs": [],
   "source": [
    "city_data = pd.DataFrame({\"revenue\": city_revenues,\"employee_count\": city_employee_count})"
   ]
  },
  {
   "cell_type": "code",
   "execution_count": null,
   "id": "e0c88113",
   "metadata": {},
   "outputs": [],
   "source": []
  }
 ],
 "metadata": {
  "kernelspec": {
   "display_name": "Python 3 (ipykernel)",
   "language": "python",
   "name": "python3"
  },
  "language_info": {
   "codemirror_mode": {
    "name": "ipython",
    "version": 3
   },
   "file_extension": ".py",
   "mimetype": "text/x-python",
   "name": "python",
   "nbconvert_exporter": "python",
   "pygments_lexer": "ipython3",
   "version": "3.9.7"
  }
 },
 "nbformat": 4,
 "nbformat_minor": 5
}
